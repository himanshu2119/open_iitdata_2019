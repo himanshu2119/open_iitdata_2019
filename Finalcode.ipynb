{
 "cells": [
  {
   "cell_type": "markdown",
   "metadata": {},
   "source": [
    "# Open IIT Data analytics 2019\n"
   ]
  },
  {
   "cell_type": "code",
   "execution_count": 1,
   "metadata": {
    "colab": {
     "base_uri": "https://localhost:8080/",
     "height": 428
    },
    "colab_type": "code",
    "id": "CTR4xuEQlVzA",
    "outputId": "f3be926f-bebc-484f-fbe3-4a469f630261",
    "scrolled": true
   },
   "outputs": [
    {
     "data": {
      "text/html": [
       "<div>\n",
       "<style scoped>\n",
       "    .dataframe tbody tr th:only-of-type {\n",
       "        vertical-align: middle;\n",
       "    }\n",
       "\n",
       "    .dataframe tbody tr th {\n",
       "        vertical-align: top;\n",
       "    }\n",
       "\n",
       "    .dataframe thead th {\n",
       "        text-align: right;\n",
       "    }\n",
       "</style>\n",
       "<table border=\"1\" class=\"dataframe\">\n",
       "  <thead>\n",
       "    <tr style=\"text-align: right;\">\n",
       "      <th></th>\n",
       "      <th>Customer</th>\n",
       "      <th>State</th>\n",
       "      <th>Customer Lifetime Value</th>\n",
       "      <th>Response</th>\n",
       "      <th>Coverage</th>\n",
       "      <th>Education</th>\n",
       "      <th>Effective To Date</th>\n",
       "      <th>EmploymentStatus</th>\n",
       "      <th>Gender</th>\n",
       "      <th>Income</th>\n",
       "      <th>...</th>\n",
       "      <th>Months Since Policy Inception</th>\n",
       "      <th>Number of Open Complaints</th>\n",
       "      <th>Number of Policies</th>\n",
       "      <th>Policy Type</th>\n",
       "      <th>Policy</th>\n",
       "      <th>Renew Offer Type</th>\n",
       "      <th>Sales Channel</th>\n",
       "      <th>Total Claim Amount</th>\n",
       "      <th>Vehicle Class</th>\n",
       "      <th>Vehicle Size</th>\n",
       "    </tr>\n",
       "  </thead>\n",
       "  <tbody>\n",
       "    <tr>\n",
       "      <th>0</th>\n",
       "      <td>BU79786</td>\n",
       "      <td>Washington</td>\n",
       "      <td>2763.519279</td>\n",
       "      <td>No</td>\n",
       "      <td>Basic</td>\n",
       "      <td>Bachelor</td>\n",
       "      <td>2/24/2011</td>\n",
       "      <td>Employed</td>\n",
       "      <td>F</td>\n",
       "      <td>56274</td>\n",
       "      <td>...</td>\n",
       "      <td>5</td>\n",
       "      <td>0</td>\n",
       "      <td>1</td>\n",
       "      <td>Corporate Auto</td>\n",
       "      <td>Corporate L3</td>\n",
       "      <td>Offer1</td>\n",
       "      <td>Agent</td>\n",
       "      <td>384.811147</td>\n",
       "      <td>Two-Door Car</td>\n",
       "      <td>Medsize</td>\n",
       "    </tr>\n",
       "    <tr>\n",
       "      <th>1</th>\n",
       "      <td>QZ44356</td>\n",
       "      <td>Arizona</td>\n",
       "      <td>6979.535903</td>\n",
       "      <td>No</td>\n",
       "      <td>Extended</td>\n",
       "      <td>Bachelor</td>\n",
       "      <td>1/31/2011</td>\n",
       "      <td>Unemployed</td>\n",
       "      <td>F</td>\n",
       "      <td>0</td>\n",
       "      <td>...</td>\n",
       "      <td>42</td>\n",
       "      <td>0</td>\n",
       "      <td>8</td>\n",
       "      <td>Personal Auto</td>\n",
       "      <td>Personal L3</td>\n",
       "      <td>Offer3</td>\n",
       "      <td>Agent</td>\n",
       "      <td>1131.464935</td>\n",
       "      <td>Four-Door Car</td>\n",
       "      <td>Medsize</td>\n",
       "    </tr>\n",
       "    <tr>\n",
       "      <th>2</th>\n",
       "      <td>AI49188</td>\n",
       "      <td>Nevada</td>\n",
       "      <td>12887.431650</td>\n",
       "      <td>No</td>\n",
       "      <td>Premium</td>\n",
       "      <td>Bachelor</td>\n",
       "      <td>2/19/2011</td>\n",
       "      <td>Employed</td>\n",
       "      <td>F</td>\n",
       "      <td>48767</td>\n",
       "      <td>...</td>\n",
       "      <td>38</td>\n",
       "      <td>0</td>\n",
       "      <td>2</td>\n",
       "      <td>Personal Auto</td>\n",
       "      <td>Personal L3</td>\n",
       "      <td>Offer1</td>\n",
       "      <td>Agent</td>\n",
       "      <td>566.472247</td>\n",
       "      <td>Two-Door Car</td>\n",
       "      <td>Medsize</td>\n",
       "    </tr>\n",
       "    <tr>\n",
       "      <th>3</th>\n",
       "      <td>WW63253</td>\n",
       "      <td>California</td>\n",
       "      <td>7645.861827</td>\n",
       "      <td>No</td>\n",
       "      <td>Basic</td>\n",
       "      <td>Bachelor</td>\n",
       "      <td>1/20/2011</td>\n",
       "      <td>Unemployed</td>\n",
       "      <td>M</td>\n",
       "      <td>0</td>\n",
       "      <td>...</td>\n",
       "      <td>65</td>\n",
       "      <td>0</td>\n",
       "      <td>7</td>\n",
       "      <td>Corporate Auto</td>\n",
       "      <td>Corporate L2</td>\n",
       "      <td>Offer1</td>\n",
       "      <td>Call Center</td>\n",
       "      <td>529.881344</td>\n",
       "      <td>SUV</td>\n",
       "      <td>Medsize</td>\n",
       "    </tr>\n",
       "    <tr>\n",
       "      <th>4</th>\n",
       "      <td>HB64268</td>\n",
       "      <td>Washington</td>\n",
       "      <td>2813.692575</td>\n",
       "      <td>No</td>\n",
       "      <td>Basic</td>\n",
       "      <td>Bachelor</td>\n",
       "      <td>2/3/2011</td>\n",
       "      <td>Employed</td>\n",
       "      <td>M</td>\n",
       "      <td>43836</td>\n",
       "      <td>...</td>\n",
       "      <td>44</td>\n",
       "      <td>0</td>\n",
       "      <td>1</td>\n",
       "      <td>Personal Auto</td>\n",
       "      <td>Personal L1</td>\n",
       "      <td>Offer1</td>\n",
       "      <td>Agent</td>\n",
       "      <td>138.130879</td>\n",
       "      <td>Four-Door Car</td>\n",
       "      <td>Medsize</td>\n",
       "    </tr>\n",
       "  </tbody>\n",
       "</table>\n",
       "<p>5 rows × 24 columns</p>\n",
       "</div>"
      ],
      "text/plain": [
       "  Customer       State  Customer Lifetime Value Response  Coverage Education  \\\n",
       "0  BU79786  Washington              2763.519279       No     Basic  Bachelor   \n",
       "1  QZ44356     Arizona              6979.535903       No  Extended  Bachelor   \n",
       "2  AI49188      Nevada             12887.431650       No   Premium  Bachelor   \n",
       "3  WW63253  California              7645.861827       No     Basic  Bachelor   \n",
       "4  HB64268  Washington              2813.692575       No     Basic  Bachelor   \n",
       "\n",
       "  Effective To Date EmploymentStatus Gender  Income  ...  \\\n",
       "0         2/24/2011         Employed      F   56274  ...   \n",
       "1         1/31/2011       Unemployed      F       0  ...   \n",
       "2         2/19/2011         Employed      F   48767  ...   \n",
       "3         1/20/2011       Unemployed      M       0  ...   \n",
       "4          2/3/2011         Employed      M   43836  ...   \n",
       "\n",
       "  Months Since Policy Inception Number of Open Complaints  Number of Policies  \\\n",
       "0                             5                         0                   1   \n",
       "1                            42                         0                   8   \n",
       "2                            38                         0                   2   \n",
       "3                            65                         0                   7   \n",
       "4                            44                         0                   1   \n",
       "\n",
       "      Policy Type        Policy  Renew Offer Type  Sales Channel  \\\n",
       "0  Corporate Auto  Corporate L3            Offer1          Agent   \n",
       "1   Personal Auto   Personal L3            Offer3          Agent   \n",
       "2   Personal Auto   Personal L3            Offer1          Agent   \n",
       "3  Corporate Auto  Corporate L2            Offer1    Call Center   \n",
       "4   Personal Auto   Personal L1            Offer1          Agent   \n",
       "\n",
       "  Total Claim Amount  Vehicle Class Vehicle Size  \n",
       "0         384.811147   Two-Door Car      Medsize  \n",
       "1        1131.464935  Four-Door Car      Medsize  \n",
       "2         566.472247   Two-Door Car      Medsize  \n",
       "3         529.881344            SUV      Medsize  \n",
       "4         138.130879  Four-Door Car      Medsize  \n",
       "\n",
       "[5 rows x 24 columns]"
      ]
     },
     "execution_count": 1,
     "metadata": {},
     "output_type": "execute_result"
    }
   ],
   "source": [
    "%matplotlib inline\n",
    "#Import the necessary libraries\n",
    "import pandas as pd\n",
    "import numpy as np\n",
    "import matplotlib.pyplot as plt\n",
    "import warnings\n",
    "warnings.filterwarnings('ignore')\n",
    "\n",
    "#loading the data\n",
    "df = pd.read_csv('./Copy of Insurance_Marketing-Customer-Value-Analysis.csv')\n",
    "df.head()"
   ]
  },
  {
   "cell_type": "markdown",
   "metadata": {
    "colab_type": "text",
    "id": "yoK4wLUFmuJK"
   },
   "source": [
    "**DATA PREPROCESSING**\n",
    "\n",
    "1-Firstly we will handle missing values in the dataset"
   ]
  },
  {
   "cell_type": "code",
   "execution_count": 2,
   "metadata": {},
   "outputs": [
    {
     "data": {
      "text/plain": [
       "Customer                         0\n",
       "State                            0\n",
       "Customer Lifetime Value          0\n",
       "Response                         0\n",
       "Coverage                         0\n",
       "Education                        0\n",
       "Effective To Date                0\n",
       "EmploymentStatus                 0\n",
       "Gender                           0\n",
       "Income                           0\n",
       "Location Code                    0\n",
       "Marital Status                   0\n",
       "Monthly Premium Auto             0\n",
       "Months Since Last Claim          0\n",
       "Months Since Policy Inception    0\n",
       "Number of Open Complaints        0\n",
       "Number of Policies               0\n",
       "Policy Type                      0\n",
       "Policy                           0\n",
       "Renew Offer Type                 0\n",
       "Sales Channel                    0\n",
       "Total Claim Amount               0\n",
       "Vehicle Class                    0\n",
       "Vehicle Size                     0\n",
       "dtype: int64"
      ]
     },
     "execution_count": 2,
     "metadata": {},
     "output_type": "execute_result"
    }
   ],
   "source": [
    "df.isna().sum()"
   ]
  },
  {
   "cell_type": "code",
   "execution_count": 3,
   "metadata": {
    "colab": {
     "base_uri": "https://localhost:8080/",
     "height": 442
    },
    "colab_type": "code",
    "id": "iIO0QdRbmqis",
    "outputId": "55348341-fbf9-4196-8fdd-2461ed4df54e"
   },
   "outputs": [],
   "source": [
    "df['Income_monthly_auto']=df['Income']*df['Monthly Premium Auto']\n",
    "df['monthly_with_no_of_policy']=df['Monthly Premium Auto']*df[\"Number of Policies\"]"
   ]
  },
  {
   "cell_type": "markdown",
   "metadata": {
    "colab_type": "text",
    "id": "eHUYYs6cnbqr"
   },
   "source": [
    "No missing values are found\n",
    "\n",
    "Let's carry on with preprocessing\n",
    "\n",
    "2 - Basic data manipulation"
   ]
  },
  {
   "cell_type": "code",
   "execution_count": 4,
   "metadata": {
    "colab": {
     "base_uri": "https://localhost:8080/",
     "height": 317
    },
    "colab_type": "code",
    "id": "R3cw0SpInZeJ",
    "outputId": "abc2ab6d-b1be-45fc-8ede-0c2214aeb588"
   },
   "outputs": [
    {
     "data": {
      "text/html": [
       "<div>\n",
       "<style scoped>\n",
       "    .dataframe tbody tr th:only-of-type {\n",
       "        vertical-align: middle;\n",
       "    }\n",
       "\n",
       "    .dataframe tbody tr th {\n",
       "        vertical-align: top;\n",
       "    }\n",
       "\n",
       "    .dataframe thead th {\n",
       "        text-align: right;\n",
       "    }\n",
       "</style>\n",
       "<table border=\"1\" class=\"dataframe\">\n",
       "  <thead>\n",
       "    <tr style=\"text-align: right;\">\n",
       "      <th></th>\n",
       "      <th>count</th>\n",
       "      <th>mean</th>\n",
       "      <th>std</th>\n",
       "      <th>min</th>\n",
       "      <th>25%</th>\n",
       "      <th>50%</th>\n",
       "      <th>75%</th>\n",
       "      <th>max</th>\n",
       "    </tr>\n",
       "  </thead>\n",
       "  <tbody>\n",
       "    <tr>\n",
       "      <th>CLV</th>\n",
       "      <td>9134.0</td>\n",
       "      <td>8.004940e+03</td>\n",
       "      <td>6.870968e+03</td>\n",
       "      <td>1898.007675</td>\n",
       "      <td>3994.251794</td>\n",
       "      <td>5.780182e+03</td>\n",
       "      <td>8.962167e+03</td>\n",
       "      <td>8.332538e+04</td>\n",
       "    </tr>\n",
       "    <tr>\n",
       "      <th>Income</th>\n",
       "      <td>9134.0</td>\n",
       "      <td>3.765738e+04</td>\n",
       "      <td>3.037990e+04</td>\n",
       "      <td>0.000000</td>\n",
       "      <td>0.000000</td>\n",
       "      <td>3.388950e+04</td>\n",
       "      <td>6.232000e+04</td>\n",
       "      <td>9.998100e+04</td>\n",
       "    </tr>\n",
       "    <tr>\n",
       "      <th>MonthlyPremiumAuto</th>\n",
       "      <td>9134.0</td>\n",
       "      <td>9.321929e+01</td>\n",
       "      <td>3.440797e+01</td>\n",
       "      <td>61.000000</td>\n",
       "      <td>68.000000</td>\n",
       "      <td>8.300000e+01</td>\n",
       "      <td>1.090000e+02</td>\n",
       "      <td>2.980000e+02</td>\n",
       "    </tr>\n",
       "    <tr>\n",
       "      <th>MonthsSinceLastClaim</th>\n",
       "      <td>9134.0</td>\n",
       "      <td>1.509700e+01</td>\n",
       "      <td>1.007326e+01</td>\n",
       "      <td>0.000000</td>\n",
       "      <td>6.000000</td>\n",
       "      <td>1.400000e+01</td>\n",
       "      <td>2.300000e+01</td>\n",
       "      <td>3.500000e+01</td>\n",
       "    </tr>\n",
       "    <tr>\n",
       "      <th>MonthsSincePolicyInception</th>\n",
       "      <td>9134.0</td>\n",
       "      <td>4.806459e+01</td>\n",
       "      <td>2.790599e+01</td>\n",
       "      <td>0.000000</td>\n",
       "      <td>24.000000</td>\n",
       "      <td>4.800000e+01</td>\n",
       "      <td>7.100000e+01</td>\n",
       "      <td>9.900000e+01</td>\n",
       "    </tr>\n",
       "    <tr>\n",
       "      <th>NumberOfOpenComplaints</th>\n",
       "      <td>9134.0</td>\n",
       "      <td>3.843880e-01</td>\n",
       "      <td>9.103835e-01</td>\n",
       "      <td>0.000000</td>\n",
       "      <td>0.000000</td>\n",
       "      <td>0.000000e+00</td>\n",
       "      <td>0.000000e+00</td>\n",
       "      <td>5.000000e+00</td>\n",
       "    </tr>\n",
       "    <tr>\n",
       "      <th>NumberofPolicies</th>\n",
       "      <td>9134.0</td>\n",
       "      <td>2.966170e+00</td>\n",
       "      <td>2.390182e+00</td>\n",
       "      <td>1.000000</td>\n",
       "      <td>1.000000</td>\n",
       "      <td>2.000000e+00</td>\n",
       "      <td>4.000000e+00</td>\n",
       "      <td>9.000000e+00</td>\n",
       "    </tr>\n",
       "    <tr>\n",
       "      <th>TotalClaimAmount</th>\n",
       "      <td>9134.0</td>\n",
       "      <td>4.340888e+02</td>\n",
       "      <td>2.905001e+02</td>\n",
       "      <td>0.099007</td>\n",
       "      <td>272.258244</td>\n",
       "      <td>3.839454e+02</td>\n",
       "      <td>5.475148e+02</td>\n",
       "      <td>2.893240e+03</td>\n",
       "    </tr>\n",
       "    <tr>\n",
       "      <th>Income_monthly_auto</th>\n",
       "      <td>9134.0</td>\n",
       "      <td>3.492977e+06</td>\n",
       "      <td>3.227904e+06</td>\n",
       "      <td>0.000000</td>\n",
       "      <td>0.000000</td>\n",
       "      <td>2.933972e+06</td>\n",
       "      <td>5.397016e+06</td>\n",
       "      <td>2.547444e+07</td>\n",
       "    </tr>\n",
       "    <tr>\n",
       "      <th>monthly_with_no_of_policy</th>\n",
       "      <td>9134.0</td>\n",
       "      <td>2.755806e+02</td>\n",
       "      <td>2.577240e+02</td>\n",
       "      <td>61.000000</td>\n",
       "      <td>105.000000</td>\n",
       "      <td>1.880000e+02</td>\n",
       "      <td>3.570000e+02</td>\n",
       "      <td>2.664000e+03</td>\n",
       "    </tr>\n",
       "  </tbody>\n",
       "</table>\n",
       "</div>"
      ],
      "text/plain": [
       "                             count          mean           std          min  \\\n",
       "CLV                         9134.0  8.004940e+03  6.870968e+03  1898.007675   \n",
       "Income                      9134.0  3.765738e+04  3.037990e+04     0.000000   \n",
       "MonthlyPremiumAuto          9134.0  9.321929e+01  3.440797e+01    61.000000   \n",
       "MonthsSinceLastClaim        9134.0  1.509700e+01  1.007326e+01     0.000000   \n",
       "MonthsSincePolicyInception  9134.0  4.806459e+01  2.790599e+01     0.000000   \n",
       "NumberOfOpenComplaints      9134.0  3.843880e-01  9.103835e-01     0.000000   \n",
       "NumberofPolicies            9134.0  2.966170e+00  2.390182e+00     1.000000   \n",
       "TotalClaimAmount            9134.0  4.340888e+02  2.905001e+02     0.099007   \n",
       "Income_monthly_auto         9134.0  3.492977e+06  3.227904e+06     0.000000   \n",
       "monthly_with_no_of_policy   9134.0  2.755806e+02  2.577240e+02    61.000000   \n",
       "\n",
       "                                    25%           50%           75%  \\\n",
       "CLV                         3994.251794  5.780182e+03  8.962167e+03   \n",
       "Income                         0.000000  3.388950e+04  6.232000e+04   \n",
       "MonthlyPremiumAuto            68.000000  8.300000e+01  1.090000e+02   \n",
       "MonthsSinceLastClaim           6.000000  1.400000e+01  2.300000e+01   \n",
       "MonthsSincePolicyInception    24.000000  4.800000e+01  7.100000e+01   \n",
       "NumberOfOpenComplaints         0.000000  0.000000e+00  0.000000e+00   \n",
       "NumberofPolicies               1.000000  2.000000e+00  4.000000e+00   \n",
       "TotalClaimAmount             272.258244  3.839454e+02  5.475148e+02   \n",
       "Income_monthly_auto            0.000000  2.933972e+06  5.397016e+06   \n",
       "monthly_with_no_of_policy    105.000000  1.880000e+02  3.570000e+02   \n",
       "\n",
       "                                     max  \n",
       "CLV                         8.332538e+04  \n",
       "Income                      9.998100e+04  \n",
       "MonthlyPremiumAuto          2.980000e+02  \n",
       "MonthsSinceLastClaim        3.500000e+01  \n",
       "MonthsSincePolicyInception  9.900000e+01  \n",
       "NumberOfOpenComplaints      5.000000e+00  \n",
       "NumberofPolicies            9.000000e+00  \n",
       "TotalClaimAmount            2.893240e+03  \n",
       "Income_monthly_auto         2.547444e+07  \n",
       "monthly_with_no_of_policy   2.664000e+03  "
      ]
     },
     "execution_count": 4,
     "metadata": {},
     "output_type": "execute_result"
    }
   ],
   "source": [
    "#Renaming the columnns (removing space delimitation)\n",
    "df = df.rename(columns = {'Customer Lifetime Value':'CLV', 'EmploymentStatus': 'EmploymentStatus', 'Location Code':'LocationCode', 'Marital Status': 'MaritalStatus','Monthly Premium Auto':'MonthlyPremiumAuto', 'Months Since Last Claim':'MonthsSinceLastClaim','Months Since Policy Inception':'MonthsSincePolicyInception','Number of Open Complaints':'NumberOfOpenComplaints','Number of Policies':'NumberofPolicies','Policy Type':'PolicyType','Policy':'PolicySubType','Renew Offer Type':'RenewOfferType','Sales Channel':'SalesChannel','Total Claim Amount':'TotalClaimAmount','Vehicle Class':'VehicleClass','Vehicle Size':'VehicleSize'})\n",
    "list(df.columns.values)\n",
    "\n",
    "del df['Customer']\n",
    "del df['Effective To Date']\n",
    "del df['VehicleSize']\n",
    "\n",
    "df.describe().transpose()"
   ]
  },
  {
   "cell_type": "markdown",
   "metadata": {
    "colab_type": "text",
    "id": "oMf-meaGpVQc"
   },
   "source": [
    "3- Anamoly Detection and removal"
   ]
  },
  {
   "cell_type": "code",
   "execution_count": 5,
   "metadata": {
    "colab": {
     "base_uri": "https://localhost:8080/",
     "height": 343
    },
    "colab_type": "code",
    "id": "H3oylED_o3OG",
    "outputId": "b987d94d-c32f-4422-8ac6-1be3dcee7c5a"
   },
   "outputs": [
    {
     "name": "stdout",
     "output_type": "stream",
     "text": [
      "Upper Treshold of CLV:  16414.039911750002\n",
      "Upper threshold of income: 155800.0\n"
     ]
    },
    {
     "data": {
      "text/html": [
       "<div>\n",
       "<style scoped>\n",
       "    .dataframe tbody tr th:only-of-type {\n",
       "        vertical-align: middle;\n",
       "    }\n",
       "\n",
       "    .dataframe tbody tr th {\n",
       "        vertical-align: top;\n",
       "    }\n",
       "\n",
       "    .dataframe thead th {\n",
       "        text-align: right;\n",
       "    }\n",
       "</style>\n",
       "<table border=\"1\" class=\"dataframe\">\n",
       "  <thead>\n",
       "    <tr style=\"text-align: right;\">\n",
       "      <th></th>\n",
       "      <th>State</th>\n",
       "      <th>CLV</th>\n",
       "      <th>Response</th>\n",
       "      <th>Coverage</th>\n",
       "      <th>Education</th>\n",
       "      <th>EmploymentStatus</th>\n",
       "      <th>Gender</th>\n",
       "      <th>Income</th>\n",
       "      <th>LocationCode</th>\n",
       "      <th>MaritalStatus</th>\n",
       "      <th>...</th>\n",
       "      <th>NumberOfOpenComplaints</th>\n",
       "      <th>NumberofPolicies</th>\n",
       "      <th>PolicyType</th>\n",
       "      <th>PolicySubType</th>\n",
       "      <th>RenewOfferType</th>\n",
       "      <th>SalesChannel</th>\n",
       "      <th>TotalClaimAmount</th>\n",
       "      <th>VehicleClass</th>\n",
       "      <th>Income_monthly_auto</th>\n",
       "      <th>monthly_with_no_of_policy</th>\n",
       "    </tr>\n",
       "  </thead>\n",
       "  <tbody>\n",
       "    <tr>\n",
       "      <th>1</th>\n",
       "      <td>Arizona</td>\n",
       "      <td>6979.535903</td>\n",
       "      <td>No</td>\n",
       "      <td>Extended</td>\n",
       "      <td>Bachelor</td>\n",
       "      <td>Unemployed</td>\n",
       "      <td>F</td>\n",
       "      <td>0</td>\n",
       "      <td>Suburban</td>\n",
       "      <td>Single</td>\n",
       "      <td>...</td>\n",
       "      <td>0</td>\n",
       "      <td>8</td>\n",
       "      <td>Personal Auto</td>\n",
       "      <td>Personal L3</td>\n",
       "      <td>Offer3</td>\n",
       "      <td>Agent</td>\n",
       "      <td>1131.464935</td>\n",
       "      <td>Four-Door Car</td>\n",
       "      <td>0</td>\n",
       "      <td>752</td>\n",
       "    </tr>\n",
       "    <tr>\n",
       "      <th>2</th>\n",
       "      <td>Nevada</td>\n",
       "      <td>12887.431650</td>\n",
       "      <td>No</td>\n",
       "      <td>Premium</td>\n",
       "      <td>Bachelor</td>\n",
       "      <td>Employed</td>\n",
       "      <td>F</td>\n",
       "      <td>48767</td>\n",
       "      <td>Suburban</td>\n",
       "      <td>Married</td>\n",
       "      <td>...</td>\n",
       "      <td>0</td>\n",
       "      <td>2</td>\n",
       "      <td>Personal Auto</td>\n",
       "      <td>Personal L3</td>\n",
       "      <td>Offer1</td>\n",
       "      <td>Agent</td>\n",
       "      <td>566.472247</td>\n",
       "      <td>Two-Door Car</td>\n",
       "      <td>5266836</td>\n",
       "      <td>216</td>\n",
       "    </tr>\n",
       "    <tr>\n",
       "      <th>3</th>\n",
       "      <td>California</td>\n",
       "      <td>7645.861827</td>\n",
       "      <td>No</td>\n",
       "      <td>Basic</td>\n",
       "      <td>Bachelor</td>\n",
       "      <td>Unemployed</td>\n",
       "      <td>M</td>\n",
       "      <td>0</td>\n",
       "      <td>Suburban</td>\n",
       "      <td>Married</td>\n",
       "      <td>...</td>\n",
       "      <td>0</td>\n",
       "      <td>7</td>\n",
       "      <td>Corporate Auto</td>\n",
       "      <td>Corporate L2</td>\n",
       "      <td>Offer1</td>\n",
       "      <td>Call Center</td>\n",
       "      <td>529.881344</td>\n",
       "      <td>SUV</td>\n",
       "      <td>0</td>\n",
       "      <td>742</td>\n",
       "    </tr>\n",
       "    <tr>\n",
       "      <th>4</th>\n",
       "      <td>Washington</td>\n",
       "      <td>2813.692575</td>\n",
       "      <td>No</td>\n",
       "      <td>Basic</td>\n",
       "      <td>Bachelor</td>\n",
       "      <td>Employed</td>\n",
       "      <td>M</td>\n",
       "      <td>43836</td>\n",
       "      <td>Rural</td>\n",
       "      <td>Single</td>\n",
       "      <td>...</td>\n",
       "      <td>0</td>\n",
       "      <td>1</td>\n",
       "      <td>Personal Auto</td>\n",
       "      <td>Personal L1</td>\n",
       "      <td>Offer1</td>\n",
       "      <td>Agent</td>\n",
       "      <td>138.130879</td>\n",
       "      <td>Four-Door Car</td>\n",
       "      <td>3200028</td>\n",
       "      <td>73</td>\n",
       "    </tr>\n",
       "    <tr>\n",
       "      <th>5</th>\n",
       "      <td>Oregon</td>\n",
       "      <td>8256.297800</td>\n",
       "      <td>Yes</td>\n",
       "      <td>Basic</td>\n",
       "      <td>Bachelor</td>\n",
       "      <td>Employed</td>\n",
       "      <td>F</td>\n",
       "      <td>62902</td>\n",
       "      <td>Rural</td>\n",
       "      <td>Married</td>\n",
       "      <td>...</td>\n",
       "      <td>0</td>\n",
       "      <td>2</td>\n",
       "      <td>Personal Auto</td>\n",
       "      <td>Personal L3</td>\n",
       "      <td>Offer2</td>\n",
       "      <td>Web</td>\n",
       "      <td>159.383042</td>\n",
       "      <td>Two-Door Car</td>\n",
       "      <td>4340238</td>\n",
       "      <td>138</td>\n",
       "    </tr>\n",
       "  </tbody>\n",
       "</table>\n",
       "<p>5 rows × 23 columns</p>\n",
       "</div>"
      ],
      "text/plain": [
       "        State           CLV Response  Coverage Education EmploymentStatus  \\\n",
       "1     Arizona   6979.535903       No  Extended  Bachelor       Unemployed   \n",
       "2      Nevada  12887.431650       No   Premium  Bachelor         Employed   \n",
       "3  California   7645.861827       No     Basic  Bachelor       Unemployed   \n",
       "4  Washington   2813.692575       No     Basic  Bachelor         Employed   \n",
       "5      Oregon   8256.297800      Yes     Basic  Bachelor         Employed   \n",
       "\n",
       "  Gender  Income LocationCode MaritalStatus  ...  NumberOfOpenComplaints  \\\n",
       "1      F       0     Suburban        Single  ...                       0   \n",
       "2      F   48767     Suburban       Married  ...                       0   \n",
       "3      M       0     Suburban       Married  ...                       0   \n",
       "4      M   43836        Rural        Single  ...                       0   \n",
       "5      F   62902        Rural       Married  ...                       0   \n",
       "\n",
       "   NumberofPolicies      PolicyType  PolicySubType  RenewOfferType  \\\n",
       "1                 8   Personal Auto    Personal L3          Offer3   \n",
       "2                 2   Personal Auto    Personal L3          Offer1   \n",
       "3                 7  Corporate Auto   Corporate L2          Offer1   \n",
       "4                 1   Personal Auto    Personal L1          Offer1   \n",
       "5                 2   Personal Auto    Personal L3          Offer2   \n",
       "\n",
       "  SalesChannel TotalClaimAmount   VehicleClass Income_monthly_auto  \\\n",
       "1        Agent      1131.464935  Four-Door Car                   0   \n",
       "2        Agent       566.472247   Two-Door Car             5266836   \n",
       "3  Call Center       529.881344            SUV                   0   \n",
       "4        Agent       138.130879  Four-Door Car             3200028   \n",
       "5          Web       159.383042   Two-Door Car             4340238   \n",
       "\n",
       "   monthly_with_no_of_policy  \n",
       "1                        752  \n",
       "2                        216  \n",
       "3                        742  \n",
       "4                         73  \n",
       "5                        138  \n",
       "\n",
       "[5 rows x 23 columns]"
      ]
     },
     "execution_count": 5,
     "metadata": {},
     "output_type": "execute_result"
    }
   ],
   "source": [
    "#Now we will treat the outliers , by replacing those values with the median values (using Interuartile Method)\n",
    "#Calculating Missing Values for CLV variable\n",
    "first_quantile_CLV = df['CLV'].quantile(0.25)\n",
    "third_quantile_CLV = df['CLV'].quantile(0.75)\n",
    "IQR_CLV = third_quantile_CLV - first_quantile_CLV\n",
    "#Range for Outliers\n",
    "up_threshold_CLV=third_quantile_CLV+1.5*IQR_CLV\n",
    "print(\"Upper Threshold of CLV: \",up_threshold_CLV)\n",
    "\n",
    "#Calculating Missing Values for Income variable\n",
    "first_quantile1 = df['Income'].quantile(0.25)\n",
    "third_quantile1 = df['Income'].quantile(0.75)\n",
    "IQR1 = third_quantile1 - first_quantile1\n",
    "#Range for Outliers\n",
    "up_threshold1=third_quantile1+1.5*IQR1\n",
    "print(\"Upper threshold of income:\", up_threshold1)\n",
    "\n",
    "# Removing anomalous datapoints \n",
    "# Where \"MonthsSincePolicyInception\" < \"MonthsSinceLastClaim\"  and there is only 1 or no policy\n",
    "# Where Income is 0 and CLV is greater than upper threshold of CLV\n",
    "\n",
    "i=0\n",
    "inception = df['MonthsSincePolicyInception']\n",
    "last = df['MonthsSinceLastClaim']\n",
    "number = df ['NumberofPolicies']\n",
    "for i in range (0,len(inception)):\n",
    "    if ( ((inception[i]<last[i]) & (number[i]<2)) or ((df['Income'][i]<=0) & (df['CLV'][i]>16414.0)) ):\n",
    "        df.drop([i], inplace=True)\n",
    "        \n",
    "df.head()"
   ]
  },
  {
   "cell_type": "markdown",
   "metadata": {
    "colab_type": "text",
    "id": "LLpIV-aHrh_P"
   },
   "source": [
    "4 - Encoding categorical variables based on their correlation with CLV values"
   ]
  },
  {
   "cell_type": "code",
   "execution_count": 6,
   "metadata": {
    "colab": {
     "base_uri": "https://localhost:8080/",
     "height": 1000
    },
    "colab_type": "code",
    "id": "HD4pKPfbqySy",
    "outputId": "ab4fee0b-ebd3-4787-dec1-af98d49583c3"
   },
   "outputs": [
    {
     "name": "stdout",
     "output_type": "stream",
     "text": [
      "Feature :  State\n",
      "value counts = {'California': 2921, 'Oregon': 2393, 'Arizona': 1572, 'Nevada': 794, 'Washington': 732}\n",
      "Correlation with CLV value\n",
      "{'Arizona': 7794.210284903309, 'Nevada': 8071.1020027644845, 'California': 7820.598872972612, 'Washington': 7692.521876677596, 'Oregon': 8027.041039030923}\n",
      "\n",
      "\n",
      "Feature :  Response\n",
      "value counts = {'No': 7200, 'Yes': 1212}\n",
      "Correlation with CLV value\n",
      "{'No': 7890.672056017361, 'Yes': 7864.4548538118825}\n",
      "\n",
      "\n",
      "Feature :  Coverage\n",
      "value counts = {'Basic': 5140, 'Extended': 2516, 'Premium': 756}\n",
      "Correlation with CLV value\n",
      "{'Extended': 8672.351962149842, 'Premium': 10736.393177034393, 'Basic': 7083.308814696109}\n",
      "\n",
      "\n",
      "Feature :  Education\n",
      "value counts = {'Bachelor': 2536, 'College': 2442, 'High School or Below': 2415, 'Master': 689, 'Doctor': 330}\n",
      "Correlation with CLV value\n",
      "{'Bachelor': 7796.397207557176, 'College': 7717.1522294197375, 'Master': 8337.609240422353, 'High School or Below': 8082.7635034380955, 'Doctor': 7464.0072608575765}\n",
      "\n",
      "\n",
      "Feature :  EmploymentStatus\n",
      "value counts = {'Employed': 5375, 'Unemployed': 1988, 'Medical Leave': 404, 'Disabled': 387, 'Retired': 258}\n",
      "Correlation with CLV value\n",
      "{'Unemployed': 6209.083508890342, 'Employed': 8490.394195898047, 'Medical Leave': 7930.210179309405, 'Disabled': 8053.5591933540045, 'Retired': 7924.414524224806}\n",
      "\n",
      "\n",
      "Feature :  Gender\n",
      "value counts = {'F': 4302, 'M': 4110}\n",
      "Correlation with CLV value\n",
      "{'F': 8027.392029697118, 'M': 7739.833959705109}\n",
      "\n",
      "\n",
      "Feature :  LocationCode\n",
      "value counts = {'Suburban': 5234, 'Rural': 1675, 'Urban': 1503}\n",
      "Correlation with CLV value\n",
      "{'Suburban': 7692.090778543369, 'Rural': 8203.853157197611, 'Urban': 8212.043188917498}\n",
      "\n",
      "\n",
      "Feature :  MaritalStatus\n",
      "value counts = {'Married': 4920, 'Single': 2216, 'Divorced': 1276}\n",
      "Correlation with CLV value\n",
      "{'Single': 7258.772400966154, 'Married': 8087.306697743089, 'Divorced': 8204.991765445142}\n",
      "\n",
      "\n",
      "Feature :  PolicyType\n",
      "value counts = {'Personal Auto': 6263, 'Corporate Auto': 1806, 'Special Auto': 343}\n",
      "Correlation with CLV value\n",
      "{'Personal Auto': 7917.812043830273, 'Corporate Auto': 7672.469669341085, 'Special Auto': 8451.373273486879}\n",
      "\n",
      "\n",
      "Feature :  PolicySubType\n",
      "value counts = {'Personal L3': 3173, 'Personal L2': 1951, 'Personal L1': 1139, 'Corporate L3': 929, 'Corporate L2': 545, 'Corporate L1': 332, 'Special L2': 150, 'Special L3': 135, 'Special L1': 58}\n",
      "Correlation with CLV value\n",
      "{'Personal L3': 7908.712056260006, 'Corporate L2': 7335.878938260551, 'Personal L1': 7795.043170827919, 'Corporate L3': 7598.146516946177, 'Special L2': 8413.257646146665, 'Corporate L1': 8432.976166370481, 'Personal L2': 8004.2846255371605, 'Special L1': 8097.145020948276, 'Special L3': 8645.910923474075}\n",
      "\n",
      "\n",
      "Feature :  RenewOfferType\n",
      "value counts = {'Offer1': 3505, 'Offer2': 2678, 'Offer3': 1305, 'Offer4': 924}\n",
      "Correlation with CLV value\n",
      "{'Offer3': 7834.960628011494, 'Offer1': 8419.750174110413, 'Offer2': 7415.2425779115, 'Offer4': 7305.942080829004}\n",
      "\n",
      "\n",
      "Feature :  SalesChannel\n",
      "value counts = {'Agent': 3221, 'Branch': 2335, 'Call Center': 1639, 'Web': 1217}\n",
      "Correlation with CLV value\n",
      "{'Agent': 7820.563385445514, 'Call Center': 8025.020397857229, 'Web': 7822.604166467543, 'Branch': 7914.948916036832}\n",
      "\n",
      "\n",
      "Feature :  VehicleClass\n",
      "value counts = {'Four-Door Car': 4298, 'Two-Door Car': 1743, 'SUV': 1614, 'Sports Car': 448, 'Luxury SUV': 164, 'Luxury Car': 145}\n",
      "Correlation with CLV value\n",
      "{'Four-Door Car': 6584.5247211463475, 'Two-Door Car': 6637.483371313253, 'SUV': 10380.448210666667, 'Luxury SUV': 16206.316333012195, 'Sports Car': 10591.893579415177, 'Luxury Car': 15986.825546558619}\n",
      "\n",
      "\n"
     ]
    }
   ],
   "source": [
    "def corr_with_clv(col_name):\n",
    "    dic={}\n",
    "    no_cat,cat=(df[col_name].nunique(),df[col_name].unique())\n",
    "    value_count=dict(df[col_name].value_counts())\n",
    "    print(f'value counts = {value_count}')\n",
    "    print(\"Correlation with CLV value\")\n",
    "    for i in range(no_cat):\n",
    "        dic[cat[i]]=df.loc[df[col_name] == cat[i], 'CLV'].sum()/value_count[cat[i]]\n",
    "\n",
    "    return dic\n",
    "  \n",
    "  \n",
    "for col in df.columns:\n",
    "  if df[col].dtype == 'object':\n",
    "    print(\"Feature : \",col)   \n",
    "    print(corr_with_clv(col))\n",
    "    print()\n",
    "    print()\n",
    "\n",
    "    \n",
    "df.to_csv('E:/without_encode.csv')"
   ]
  },
  {
   "cell_type": "markdown",
   "metadata": {
    "colab_type": "text",
    "id": "3ZupE3_vtJWA"
   },
   "source": [
    "For those features where score is nearly same for all classes we used one hot encoding while for those features where class scores are unbalanced we mapped the code codes manually"
   ]
  },
  {
   "cell_type": "code",
   "execution_count": 7,
   "metadata": {
    "colab": {},
    "colab_type": "code",
    "id": "eS7WyfwBs7ul"
   },
   "outputs": [],
   "source": [
    "one_hot = pd.get_dummies(df['EmploymentStatus'])\n",
    "df = df.join(one_hot)\n",
    "del df['EmploymentStatus']\n",
    "\n",
    "df.replace({'PolicySubType':{'Personal L3': 1, 'Corporate L2': 0, 'Personal L1': 1, 'Corporate L3': 0, 'Special L2': 2, 'Corporate L1': 2, 'Personal L2': 2, 'Special L1': 2, 'Special L3': 2}}, inplace=True)\n",
    "\n",
    "one_hot = pd.get_dummies(df['MaritalStatus'])\n",
    "df = df.join(one_hot)\n",
    "del df['MaritalStatus']\n",
    "\n",
    "one_hot = pd.get_dummies(df['LocationCode'])\n",
    "df = df.join(one_hot)\n",
    "del df['LocationCode']\n",
    "\n",
    "one_hot = pd.get_dummies(df['Education'])\n",
    "df = df.join(one_hot)\n",
    "del df['Education']\n",
    "\n",
    "one_hot = pd.get_dummies(df['SalesChannel'])\n",
    "df = df.join(one_hot)\n",
    "del df['SalesChannel']\n",
    "\n",
    "df.replace({'RenewOfferType':{'Offer1':3 , 'Offer2':2 , 'Offer3':1 , 'Offer4':0}}, inplace=True)\n",
    "df.replace({'Coverage':{'Basic':0 , 'Extended':1 , 'Premium':2 }}, inplace=True)\n",
    "df.replace({'PolicyType':{'Personal Auto':0 , 'Corporate Auto':1 , 'Special Auto':2 }}, inplace=True)\n",
    "encode = {\"VehicleClass\": {\"Four-Door Car\":0, \"Two-Door Car\":1,\"SUV\":2,\"Sports Car\":3,\"Luxury SUV\":5,\"Luxury Car\":4}}\n",
    "df.replace(encode, inplace=True)\n",
    "\n",
    "df.replace({'Gender':{'M':1 , 'F':0}}, inplace=True)\n",
    "\n",
    "df.replace({'Response':{'Yes':1 , 'No':0}}, inplace=True)\n",
    "\n",
    "one_hot = pd.get_dummies(df['State'])\n",
    "df = df.join(one_hot)\n",
    "del df['State']"
   ]
  },
  {
   "cell_type": "code",
   "execution_count": 8,
   "metadata": {
    "colab": {
     "base_uri": "https://localhost:8080/",
     "height": 275
    },
    "colab_type": "code",
    "id": "yPVcNno8t9uj",
    "outputId": "d00fe3d6-b9ed-4b91-e2d2-d5a7df899fb3"
   },
   "outputs": [
    {
     "data": {
      "text/html": [
       "<div>\n",
       "<style scoped>\n",
       "    .dataframe tbody tr th:only-of-type {\n",
       "        vertical-align: middle;\n",
       "    }\n",
       "\n",
       "    .dataframe tbody tr th {\n",
       "        vertical-align: top;\n",
       "    }\n",
       "\n",
       "    .dataframe thead th {\n",
       "        text-align: right;\n",
       "    }\n",
       "</style>\n",
       "<table border=\"1\" class=\"dataframe\">\n",
       "  <thead>\n",
       "    <tr style=\"text-align: right;\">\n",
       "      <th></th>\n",
       "      <th>CLV</th>\n",
       "      <th>Response</th>\n",
       "      <th>Coverage</th>\n",
       "      <th>Gender</th>\n",
       "      <th>Income</th>\n",
       "      <th>MonthlyPremiumAuto</th>\n",
       "      <th>MonthsSinceLastClaim</th>\n",
       "      <th>MonthsSincePolicyInception</th>\n",
       "      <th>NumberOfOpenComplaints</th>\n",
       "      <th>NumberofPolicies</th>\n",
       "      <th>...</th>\n",
       "      <th>Master</th>\n",
       "      <th>Agent</th>\n",
       "      <th>Branch</th>\n",
       "      <th>Call Center</th>\n",
       "      <th>Web</th>\n",
       "      <th>Arizona</th>\n",
       "      <th>California</th>\n",
       "      <th>Nevada</th>\n",
       "      <th>Oregon</th>\n",
       "      <th>Washington</th>\n",
       "    </tr>\n",
       "  </thead>\n",
       "  <tbody>\n",
       "    <tr>\n",
       "      <th>1</th>\n",
       "      <td>6979.535903</td>\n",
       "      <td>0</td>\n",
       "      <td>1</td>\n",
       "      <td>0</td>\n",
       "      <td>0</td>\n",
       "      <td>94</td>\n",
       "      <td>13</td>\n",
       "      <td>42</td>\n",
       "      <td>0</td>\n",
       "      <td>8</td>\n",
       "      <td>...</td>\n",
       "      <td>0</td>\n",
       "      <td>1</td>\n",
       "      <td>0</td>\n",
       "      <td>0</td>\n",
       "      <td>0</td>\n",
       "      <td>1</td>\n",
       "      <td>0</td>\n",
       "      <td>0</td>\n",
       "      <td>0</td>\n",
       "      <td>0</td>\n",
       "    </tr>\n",
       "    <tr>\n",
       "      <th>2</th>\n",
       "      <td>12887.431650</td>\n",
       "      <td>0</td>\n",
       "      <td>2</td>\n",
       "      <td>0</td>\n",
       "      <td>48767</td>\n",
       "      <td>108</td>\n",
       "      <td>18</td>\n",
       "      <td>38</td>\n",
       "      <td>0</td>\n",
       "      <td>2</td>\n",
       "      <td>...</td>\n",
       "      <td>0</td>\n",
       "      <td>1</td>\n",
       "      <td>0</td>\n",
       "      <td>0</td>\n",
       "      <td>0</td>\n",
       "      <td>0</td>\n",
       "      <td>0</td>\n",
       "      <td>1</td>\n",
       "      <td>0</td>\n",
       "      <td>0</td>\n",
       "    </tr>\n",
       "    <tr>\n",
       "      <th>3</th>\n",
       "      <td>7645.861827</td>\n",
       "      <td>0</td>\n",
       "      <td>0</td>\n",
       "      <td>1</td>\n",
       "      <td>0</td>\n",
       "      <td>106</td>\n",
       "      <td>18</td>\n",
       "      <td>65</td>\n",
       "      <td>0</td>\n",
       "      <td>7</td>\n",
       "      <td>...</td>\n",
       "      <td>0</td>\n",
       "      <td>0</td>\n",
       "      <td>0</td>\n",
       "      <td>1</td>\n",
       "      <td>0</td>\n",
       "      <td>0</td>\n",
       "      <td>1</td>\n",
       "      <td>0</td>\n",
       "      <td>0</td>\n",
       "      <td>0</td>\n",
       "    </tr>\n",
       "    <tr>\n",
       "      <th>4</th>\n",
       "      <td>2813.692575</td>\n",
       "      <td>0</td>\n",
       "      <td>0</td>\n",
       "      <td>1</td>\n",
       "      <td>43836</td>\n",
       "      <td>73</td>\n",
       "      <td>12</td>\n",
       "      <td>44</td>\n",
       "      <td>0</td>\n",
       "      <td>1</td>\n",
       "      <td>...</td>\n",
       "      <td>0</td>\n",
       "      <td>1</td>\n",
       "      <td>0</td>\n",
       "      <td>0</td>\n",
       "      <td>0</td>\n",
       "      <td>0</td>\n",
       "      <td>0</td>\n",
       "      <td>0</td>\n",
       "      <td>0</td>\n",
       "      <td>1</td>\n",
       "    </tr>\n",
       "    <tr>\n",
       "      <th>5</th>\n",
       "      <td>8256.297800</td>\n",
       "      <td>1</td>\n",
       "      <td>0</td>\n",
       "      <td>0</td>\n",
       "      <td>62902</td>\n",
       "      <td>69</td>\n",
       "      <td>14</td>\n",
       "      <td>94</td>\n",
       "      <td>0</td>\n",
       "      <td>2</td>\n",
       "      <td>...</td>\n",
       "      <td>0</td>\n",
       "      <td>0</td>\n",
       "      <td>0</td>\n",
       "      <td>0</td>\n",
       "      <td>1</td>\n",
       "      <td>0</td>\n",
       "      <td>0</td>\n",
       "      <td>0</td>\n",
       "      <td>1</td>\n",
       "      <td>0</td>\n",
       "    </tr>\n",
       "  </tbody>\n",
       "</table>\n",
       "<p>5 rows × 42 columns</p>\n",
       "</div>"
      ],
      "text/plain": [
       "            CLV  Response  Coverage  Gender  Income  MonthlyPremiumAuto  \\\n",
       "1   6979.535903         0         1       0       0                  94   \n",
       "2  12887.431650         0         2       0   48767                 108   \n",
       "3   7645.861827         0         0       1       0                 106   \n",
       "4   2813.692575         0         0       1   43836                  73   \n",
       "5   8256.297800         1         0       0   62902                  69   \n",
       "\n",
       "   MonthsSinceLastClaim  MonthsSincePolicyInception  NumberOfOpenComplaints  \\\n",
       "1                    13                          42                       0   \n",
       "2                    18                          38                       0   \n",
       "3                    18                          65                       0   \n",
       "4                    12                          44                       0   \n",
       "5                    14                          94                       0   \n",
       "\n",
       "   NumberofPolicies  ...  Master  Agent  Branch  Call Center  Web  Arizona  \\\n",
       "1                 8  ...       0      1       0            0    0        1   \n",
       "2                 2  ...       0      1       0            0    0        0   \n",
       "3                 7  ...       0      0       0            1    0        0   \n",
       "4                 1  ...       0      1       0            0    0        0   \n",
       "5                 2  ...       0      0       0            0    1        0   \n",
       "\n",
       "   California  Nevada  Oregon  Washington  \n",
       "1           0       0       0           0  \n",
       "2           0       1       0           0  \n",
       "3           1       0       0           0  \n",
       "4           0       0       0           1  \n",
       "5           0       0       1           0  \n",
       "\n",
       "[5 rows x 42 columns]"
      ]
     },
     "execution_count": 8,
     "metadata": {},
     "output_type": "execute_result"
    }
   ],
   "source": [
    "df.head()"
   ]
  },
  {
   "cell_type": "markdown",
   "metadata": {
    "colab_type": "text",
    "id": "vkfihdAnuo-O"
   },
   "source": [
    "5- Removing outlier using Interquantile range"
   ]
  },
  {
   "cell_type": "code",
   "execution_count": 9,
   "metadata": {
    "colab": {
     "base_uri": "https://localhost:8080/",
     "height": 281
    },
    "colab_type": "code",
    "id": "D5-_6ldruIaK",
    "outputId": "7371f783-e815-496e-a12f-258e27d37f7d"
   },
   "outputs": [
    {
     "data": {
      "image/png": "[encoded data removed]",
      "text/plain": [
       "<Figure size 432x288 with 1 Axes>"
      ]
     },
     "metadata": {
      "needs_background": "light"
     },
     "output_type": "display_data"
    }
   ],
   "source": [
    "plot1 = df[['Income']].plot.box()\n",
    "plt.title('Detecting Outliers for Numerical Variables in the Current Dataset')\n",
    "plt.show()\n",
    "\n",
    "#Calculating Missing Values for Income variable\n",
    "first_quantile1 = df['Income'].quantile(0.25)\n",
    "third_quantile1 = df['Income'].quantile(0.75)\n",
    "IQR1 = third_quantile1 - first_quantile1\n",
    "#Range for Outliers\n",
    "up_threshold1=third_quantile1+1.5*IQR1\n",
    "up_threshold1\n",
    "down_threshold1=first_quantile1-1.5*IQR1\n",
    "down_threshold1\n",
    "#Treatment\n",
    "median1 = float(df['Income'].median())\n",
    "median1\n",
    "df[\"Income\"] = np.where(df[\"Income\"] >up_threshold1, median1,df['Income'])\n",
    "\n"
   ]
  },
  {
   "cell_type": "code",
   "execution_count": 10,
   "metadata": {
    "colab": {
     "base_uri": "https://localhost:8080/",
     "height": 281
    },
    "colab_type": "code",
    "id": "Olzapl3Kx28t",
    "outputId": "55fbcb1d-2cd9-4a4b-cc6c-17619061f92d"
   },
   "outputs": [
    {
     "data": {
      "image/png": "[encoded data removed]",
      "text/plain": [
       "<Figure size 432x288 with 1 Axes>"
      ]
     },
     "metadata": {
      "needs_background": "light"
     },
     "output_type": "display_data"
    }
   ],
   "source": [
    "plot1 = df[['MonthlyPremiumAuto']].plot.box()\n",
    "plt.title('Detecting Outliers for Numerical Variables in the Current Dataset')\n",
    "plt.show()\n",
    "\n",
    "#Calculating Missing Values for Monthly Premium Auto variable\n",
    "first_quantile2 = df['MonthlyPremiumAuto'].quantile(0.25)\n",
    "third_quantile2 = df['MonthlyPremiumAuto'].quantile(0.75)\n",
    "IQR2 = third_quantile2 - first_quantile2\n",
    "#Range for Outliers\n",
    "up_threshold2=third_quantile2+1.5*IQR2\n",
    "up_threshold2\n",
    "down_threshold2=first_quantile2-1.5*IQR2\n",
    "down_threshold2\n",
    "#Treatment\n",
    "median2 = float(df['MonthlyPremiumAuto'].median())\n",
    "median2\n",
    "df[\"MonthlyPremiumAuto\"] = np.where(df[\"MonthlyPremiumAuto\"] >up_threshold2, median2,df['MonthlyPremiumAuto'])\n",
    "df[\"MonthlyPremiumAuto\"] = np.where(df[\"MonthlyPremiumAuto\"] <down_threshold2, median2,df['MonthlyPremiumAuto'])"
   ]
  },
  {
   "cell_type": "code",
   "execution_count": 11,
   "metadata": {
    "colab": {
     "base_uri": "https://localhost:8080/",
     "height": 809
    },
    "colab_type": "code",
    "id": "Ik-XU9V4yHS4",
    "outputId": "5fc1cb76-b603-4aae-aa5f-44baa02f7285"
   },
   "outputs": [
    {
     "data": {
      "image/png": "[encoded data removed]",
      "text/plain": [
       "<Figure size 432x288 with 1 Axes>"
      ]
     },
     "metadata": {
      "needs_background": "light"
     },
     "output_type": "display_data"
    },
    {
     "data": {
      "image/png": "[encoded data removed]",
      "text/plain": [
       "<Figure size 432x288 with 1 Axes>"
      ]
     },
     "metadata": {
      "needs_background": "light"
     },
     "output_type": "display_data"
    },
    {
     "data": {
      "image/png": "[encoded data removed]",
      "text/plain": [
       "<Figure size 432x288 with 1 Axes>"
      ]
     },
     "metadata": {
      "needs_background": "light"
     },
     "output_type": "display_data"
    }
   ],
   "source": [
    "plot1 = df[['MonthsSinceLastClaim']].plot.box()\n",
    "plt.title('Detecting Outliers for Numerical Variables in the Current Dataset')\n",
    "plt.show()\n",
    "\n",
    "plot1 = df[['MonthsSincePolicyInception']].plot.box()\n",
    "plt.title('Detecting Outliers for Numerical Variables in the Current Dataset')\n",
    "plt.show()\n",
    "\n",
    "plot1 = df[['MonthsSincePolicyInception']].plot.box()\n",
    "plt.title('Detecting Outliers for Numerical Variables in the Current Dataset')\n",
    "plt.show()\n",
    "\n",
    "#Calculating Missing Values for No of Policies variable\n",
    "first_quantile4 = df['NumberofPolicies'].quantile(0.25)\n",
    "third_quantile4 = df['NumberofPolicies'].quantile(0.75)\n",
    "IQR4 = third_quantile4 - first_quantile4\n",
    "#Range for Outliers\n",
    "up_threshold4=third_quantile4+1.5*IQR4\n",
    "up_threshold4\n",
    "down_threshold4=first_quantile4-1.5*IQR4\n",
    "down_threshold4\n",
    "#Treatment\n",
    "median4 = float(df['NumberofPolicies'].median())\n",
    "median4\n",
    "df[\"NumberofPolicies\"] = np.where(df[\"NumberofPolicies\"] >up_threshold4, median4,df['NumberofPolicies'])\n",
    "\n"
   ]
  },
  {
   "cell_type": "code",
   "execution_count": 12,
   "metadata": {
    "colab": {
     "base_uri": "https://localhost:8080/",
     "height": 281
    },
    "colab_type": "code",
    "id": "NJpc6jA-ykdG",
    "outputId": "045f1491-70cd-4786-94b6-80d55ef77e5c"
   },
   "outputs": [
    {
     "data": {
      "image/png": "[encoded data removed]",
      "text/plain": [
       "<Figure size 432x288 with 1 Axes>"
      ]
     },
     "metadata": {
      "needs_background": "light"
     },
     "output_type": "display_data"
    }
   ],
   "source": [
    "plot1 = df[['TotalClaimAmount']].plot.box()\n",
    "plt.title('Detecting Outliers for Numerical Variables in the Current Dataset')\n",
    "plt.show()\n",
    "\n",
    "#Calculating Missing Values for Total Claim Amount variable\n",
    "first_quantile3 = df['TotalClaimAmount'].quantile(0.25)\n",
    "third_quantile3 = df['TotalClaimAmount'].quantile(0.75)\n",
    "IQR3 = third_quantile3 - first_quantile3\n",
    "#Range for Outliers\n",
    "up_threshold3=third_quantile3+1.5*IQR3\n",
    "up_threshold3\n",
    "down_threshold3=first_quantile3-1.5*IQR3\n",
    "down_threshold3\n",
    "#Treatment\n",
    "median3 = float(df['TotalClaimAmount'].median())\n",
    "median3\n",
    "df[\"TotalClaimAmount\"] = np.where(df[\"TotalClaimAmount\"] >up_threshold3, median3,df['TotalClaimAmount'])\n",
    "\n"
   ]
  },
  {
   "cell_type": "code",
   "execution_count": 14,
   "metadata": {
    "colab": {
     "base_uri": "https://localhost:8080/",
     "height": 879
    },
    "colab_type": "code",
    "id": "iLBHs2fUyv46",
    "outputId": "72b3f5a2-a431-4f35-f81a-e7434f80dc1f"
   },
   "outputs": [
    {
     "data": {
      "image/png": "[encoded data removed]",
      "text/plain": [
       "<Figure size 1080x1080 with 9 Axes>"
      ]
     },
     "metadata": {
      "needs_background": "light"
     },
     "output_type": "display_data"
    }
   ],
   "source": [
    "column_index = ['CLV','Income','MonthlyPremiumAuto','MonthsSinceLastClaim','MonthsSincePolicyInception','NumberOfOpenComplaints','NumberofPolicies','TotalClaimAmount']\n",
    "histogram1 = df[column_index].hist(bins=20 , figsize = (15,15))"
   ]
  },
  {
   "cell_type": "markdown",
   "metadata": {
    "colab_type": "text",
    "id": "8HHM0rP4y5mp"
   },
   "source": [
    "Checking for Skewness and Kurtosis"
   ]
  },
  {
   "cell_type": "code",
   "execution_count": 15,
   "metadata": {
    "colab": {
     "base_uri": "https://localhost:8080/",
     "height": 714
    },
    "colab_type": "code",
    "id": "-qt1IfCcyzul",
    "outputId": "0ea7e026-5d3a-4e56-ec90-291c96a09b5b"
   },
   "outputs": [
    {
     "data": {
      "text/plain": [
       "CLV                           3.131516\n",
       "Response                      2.027410\n",
       "Coverage                      1.036836\n",
       "Gender                        0.045669\n",
       "Income                        0.259808\n",
       "MonthlyPremiumAuto            0.811160\n",
       "MonthsSinceLastClaim          0.333313\n",
       "MonthsSincePolicyInception   -0.029014\n",
       "NumberOfOpenComplaints        2.772523\n",
       "NumberofPolicies              1.266963\n",
       "PolicyType                    1.646512\n",
       "PolicySubType                -0.181316\n",
       "RenewOfferType               -0.733741\n",
       "TotalClaimAmount              0.349880\n",
       "VehicleClass                  1.340102\n",
       "Income_monthly_auto           1.150828\n",
       "monthly_with_no_of_policy     2.182854\n",
       "Disabled                      4.334900\n",
       "Employed                     -0.578776\n",
       "Medical Leave                 4.228310\n",
       "Retired                       5.444893\n",
       "Unemployed                    1.241532\n",
       "Divorced                      1.942327\n",
       "Married                      -0.344577\n",
       "Single                        1.074286\n",
       "Rural                         1.507158\n",
       "Suburban                     -0.504205\n",
       "Urban                         1.677901\n",
       "Bachelor                      0.865383\n",
       "College                       0.924158\n",
       "Doctor                        4.747608\n",
       "High School or Below          0.941407\n",
       "Master                        3.049841\n",
       "Agent                         0.481862\n",
       "Branch                        0.993558\n",
       "Call Center                   1.541180\n",
       "Web                           2.020564\n",
       "Arizona                       1.606826\n",
       "California                    0.641829\n",
       "Nevada                        2.775145\n",
       "Oregon                        0.955590\n",
       "Washington                    2.930901\n",
       "dtype: float64"
      ]
     },
     "execution_count": 15,
     "metadata": {},
     "output_type": "execute_result"
    }
   ],
   "source": [
    "df.skew()"
   ]
  },
  {
   "cell_type": "code",
   "execution_count": 16,
   "metadata": {
    "colab": {
     "base_uri": "https://localhost:8080/",
     "height": 714
    },
    "colab_type": "code",
    "id": "qhMZRT4Uy_82",
    "outputId": "41df6e7d-37b3-4b74-94ac-904da80d9ff3"
   },
   "outputs": [
    {
     "data": {
      "text/plain": [
       "CLV                           15.062111\n",
       "Response                       2.110895\n",
       "Coverage                      -0.094295\n",
       "Gender                        -1.998390\n",
       "Income                        -1.082890\n",
       "MonthlyPremiumAuto            -0.134463\n",
       "MonthsSinceLastClaim          -1.024296\n",
       "MonthsSincePolicyInception    -1.069103\n",
       "NumberOfOpenComplaints         7.646591\n",
       "NumberofPolicies               0.513690\n",
       "PolicyType                     1.780399\n",
       "PolicySubType                 -0.877255\n",
       "RenewOfferType                -0.601834\n",
       "TotalClaimAmount              -0.078564\n",
       "VehicleClass                   1.544670\n",
       "Income_monthly_auto            2.122880\n",
       "monthly_with_no_of_policy      7.006629\n",
       "Disabled                      16.795353\n",
       "Employed                      -1.665415\n",
       "Medical Leave                 15.882384\n",
       "Retired                       27.653439\n",
       "Unemployed                    -0.458707\n",
       "Divorced                       1.773055\n",
       "Married                       -1.881714\n",
       "Single                        -0.846111\n",
       "Rural                          0.271591\n",
       "Suburban                      -1.746193\n",
       "Urban                          0.815547\n",
       "Bachelor                      -1.251410\n",
       "College                       -1.146205\n",
       "Doctor                        20.544663\n",
       "High School or Below          -1.114018\n",
       "Master                         7.303266\n",
       "Agent                         -1.768229\n",
       "Branch                        -1.013084\n",
       "Call Center                    0.375324\n",
       "Web                            2.083175\n",
       "Arizona                        0.582029\n",
       "California                    -1.588434\n",
       "Nevada                         5.702788\n",
       "Oregon                        -1.087106\n",
       "Washington                     6.591746\n",
       "dtype: float64"
      ]
     },
     "execution_count": 16,
     "metadata": {},
     "output_type": "execute_result"
    }
   ],
   "source": [
    "df.kurtosis()"
   ]
  },
  {
   "cell_type": "markdown",
   "metadata": {
    "colab_type": "text",
    "id": "EuYyF3pmzxkw"
   },
   "source": [
    "6- Scaling the features"
   ]
  },
  {
   "cell_type": "code",
   "execution_count": null,
   "metadata": {
    "colab": {
     "base_uri": "https://localhost:8080/",
     "height": 275
    },
    "colab_type": "code",
    "id": "BOP-DrZGzCDC",
    "outputId": "0551bf5a-1dfe-4ce1-ff18-fc35c6c85228"
   },
   "outputs": [],
   "source": []
  },
  {
   "cell_type": "code",
   "execution_count": null,
   "metadata": {
    "colab": {},
    "colab_type": "code",
    "id": "VjitFVXD03IR"
   },
   "outputs": [],
   "source": []
  },
  {
   "cell_type": "code",
   "execution_count": 17,
   "metadata": {},
   "outputs": [],
   "source": [
    "from sklearn.model_selection import train_test_split\n",
    "from sklearn import metrics\n",
    "X=df.drop('CLV',axis=1)\n",
    "y=df[\"CLV\"]\n",
    "X_train, X_test, y_train, y_test = train_test_split(X, y, test_size=0.2)\n",
    "from sklearn.preprocessing import StandardScaler, MinMaxScaler\n",
    "\n",
    "\n",
    "sc = MinMaxScaler()\n",
    "X_train = sc.fit_transform(X_train)\n",
    "X_test = sc.transform(X_test)\n",
    "\n",
    "from sklearn.linear_model import LinearRegression\n",
    "le=LinearRegression()\n",
    "\n",
    "le.fit(X_train, y_train)\n",
    "y_pred = le.predict(X_test)"
   ]
  },
  {
   "cell_type": "code",
   "execution_count": 18,
   "metadata": {},
   "outputs": [
    {
     "name": "stdout",
     "output_type": "stream",
     "text": [
      "R square:  0.2051570130257936\n",
      "Mean Absolute Error: 3516.339518721331\n",
      "Mean Squared Error: 29547920.735918306\n",
      "Root Mean Squared Error: 5435.799916840051\n"
     ]
    }
   ],
   "source": [
    "print('R square: ',metrics.r2_score(y_test, y_pred))\n",
    "print('Mean Absolute Error:', metrics.mean_absolute_error(y_test, y_pred))\n",
    "print('Mean Squared Error:', metrics.mean_squared_error(y_test, y_pred))\n",
    "print('Root Mean Squared Error:', np.sqrt(metrics.mean_squared_error(y_test, y_pred)))"
   ]
  },
  {
   "cell_type": "code",
   "execution_count": 20,
   "metadata": {},
   "outputs": [
    {
     "name": "stdout",
     "output_type": "stream",
     "text": [
      "RMSE: 4960.320285\n"
     ]
    }
   ],
   "source": [
    "import xgboost\n",
    "xg_reg = xgboost.XGBRegressor(colsample_bytree = 0.3, learning_rate = 0.1,\n",
    "                max_depth = 5, alpha = 10, n_estimators = 10)\n",
    "xg_reg.fit(X_train,y_train)\n",
    "\n",
    "\n",
    "preds = xg_reg.predict(X_test)\n",
    "\n",
    "rmse = np.sqrt(metrics.mean_squared_error(y_test, preds))\n",
    "print(\"RMSE: %f\" % (rmse))"
   ]
  },
  {
   "cell_type": "code",
   "execution_count": 21,
   "metadata": {},
   "outputs": [
    {
     "name": "stdout",
     "output_type": "stream",
     "text": [
      "R square:  0.7086286237058228\n",
      "Mean Absolute Error: 1350.4286623443436\n",
      "Mean Squared Error: 12795146.384469897\n",
      "Root Mean Squared Error: 3577.0303862939013\n"
     ]
    }
   ],
   "source": [
    "from sklearn.ensemble import RandomForestRegressor\n",
    "X=df.drop('CLV',axis=1)\n",
    "y=df[\"CLV\"]\n",
    "X_train, X_test, y_train, y_test = train_test_split(X, y, test_size=0.2)\n",
    "# sc = MinMaxScaler()\n",
    "# X_train = sc.fit_transform(X_train)\n",
    "# X_test = sc.transform(X_test)\n",
    "\n",
    "regressor = RandomForestRegressor(n_estimators=100, random_state=0)\n",
    "regressor.fit(X_train, y_train)\n",
    "y_pred = regressor.predict(X_test)\n",
    "\n",
    "\n",
    "\n",
    "print('R square: ',metrics.r2_score(y_test, y_pred))\n",
    "print('Mean Absolute Error:', metrics.mean_absolute_error(y_test, y_pred))\n",
    "print('Mean Squared Error:', metrics.mean_squared_error(y_test, y_pred))\n",
    "print('Root Mean Squared Error:', np.sqrt(metrics.mean_squared_error(y_test, y_pred)))\n"
   ]
  },
  {
   "cell_type": "code",
   "execution_count": 24,
   "metadata": {},
   "outputs": [
    {
     "name": "stdout",
     "output_type": "stream",
     "text": [
      "Adjusted r squared:  0.7174264696564334\n"
     ]
    }
   ],
   "source": [
    "r2=metrics.r2_score(y_test, y_pred)\n",
    "n=y_test.count()\n",
    "p=len(df.columns)-1\n",
    "adj_r2=(1-(1-r2*r2*((n-1)/(n-p-1))))**(.5)\n",
    "print(\"Adjusted r squared: \",adj_r2)\n"
   ]
  },
  {
   "cell_type": "code",
   "execution_count": 25,
   "metadata": {},
   "outputs": [
    {
     "data": {
      "text/plain": [
       "9.503959991003349"
      ]
     },
     "execution_count": 25,
     "metadata": {},
     "output_type": "execute_result"
    }
   ],
   "source": [
    "def mean_absolute_percentage_error(y_test, y_pred): \n",
    "    y_test, y_pred = np.array(y_test), np.array(y_pred)\n",
    "    return np.mean(np.abs((y_test - y_pred) / y_test)) * 100\n",
    "\n",
    "mean_absolute_percentage_error(y_test,y_pred)"
   ]
  },
  {
   "cell_type": "code",
   "execution_count": null,
   "metadata": {},
   "outputs": [],
   "source": []
  },
  {
   "cell_type": "code",
   "execution_count": 26,
   "metadata": {},
   "outputs": [],
   "source": [
    "def Grid_Search_CV_RFR(X_train, y_train):\n",
    "    from sklearn.model_selection import GridSearchCV\n",
    "    from sklearn.model_selection import ShuffleSplit\n",
    "\n",
    "\n",
    "    estimator = RandomForestRegressor()\n",
    "    param_grid = { \n",
    "            \"n_estimators\"      : [10,20,30],\n",
    "            \"max_features\"      : [\"auto\", \"sqrt\", \"log2\"],\n",
    "            \"min_samples_split\" : [2,4,8],\n",
    "            \"bootstrap\": [True, False],\n",
    "            }\n",
    "\n",
    "    grid = GridSearchCV(estimator, param_grid, n_jobs=-1, cv=5)\n",
    "\n",
    "\n",
    "    grid.fit(X_train, y_train)\n",
    "    y_pred2=grid.best_estimator_.predict(X_test)\n",
    "    \n",
    "\n",
    "    return grid.best_score_ , grid.best_params_,y_pred2\n"
   ]
  },
  {
   "cell_type": "code",
   "execution_count": 27,
   "metadata": {},
   "outputs": [],
   "source": [
    "best_score,best_parmas,y_pred2=Grid_Search_CV_RFR(X_train,y_train)"
   ]
  },
  {
   "cell_type": "code",
   "execution_count": 28,
   "metadata": {},
   "outputs": [
    {
     "data": {
      "text/plain": [
       "0.7043077471018069"
      ]
     },
     "execution_count": 28,
     "metadata": {},
     "output_type": "execute_result"
    }
   ],
   "source": [
    "best_score"
   ]
  },
  {
   "cell_type": "code",
   "execution_count": 29,
   "metadata": {},
   "outputs": [
    {
     "data": {
      "text/plain": [
       "{'bootstrap': True,\n",
       " 'max_features': 'auto',\n",
       " 'min_samples_split': 4,\n",
       " 'n_estimators': 30}"
      ]
     },
     "execution_count": 29,
     "metadata": {},
     "output_type": "execute_result"
    }
   ],
   "source": [
    "best_parmas"
   ]
  },
  {
   "cell_type": "code",
   "execution_count": 30,
   "metadata": {},
   "outputs": [
    {
     "data": {
      "text/plain": [
       "array([ 6381.52737592,  9930.09715331,  5391.00897822, ...,\n",
       "        5307.7465032 , 19194.84932174,  4534.91530543])"
      ]
     },
     "execution_count": 30,
     "metadata": {},
     "output_type": "execute_result"
    }
   ],
   "source": [
    "y_pred2"
   ]
  },
  {
   "cell_type": "code",
   "execution_count": 31,
   "metadata": {},
   "outputs": [
    {
     "name": "stdout",
     "output_type": "stream",
     "text": [
      "R square:  0.7016800736710027\n",
      "Mean Absolute Error: 1339.8548543050053\n",
      "Mean Squared Error: 13100281.761822721\n",
      "Root Mean Squared Error: 3619.431137875498\n",
      "Adjusted r squared:  0.710391651200128\n"
     ]
    },
    {
     "data": {
      "text/plain": [
       "9.35636698253092"
      ]
     },
     "execution_count": 31,
     "metadata": {},
     "output_type": "execute_result"
    }
   ],
   "source": [
    "print('R square: ',metrics.r2_score(y_test, y_pred2))\n",
    "print('Mean Absolute Error:', metrics.mean_absolute_error(y_test, y_pred2))\n",
    "print('Mean Squared Error:', metrics.mean_squared_error(y_test, y_pred2))\n",
    "print('Root Mean Squared Error:', np.sqrt(metrics.mean_squared_error(y_test, y_pred2)))\n",
    "r2=metrics.r2_score(y_test, y_pred2)\n",
    "n=y_test.count()\n",
    "p=len(df.columns)-1\n",
    "adj_r2=(1-(1-r2*r2*((n-1)/(n-p-1))))**(.5)\n",
    "print(\"Adjusted r squared: \",adj_r2)\n",
    "def mean_absolute_percentage_error(y_test, y_pred): \n",
    "    y_test, y_pred = np.array(y_test), np.array(y_pred)\n",
    "    return np.mean(np.abs((y_test - y_pred) / y_test)) * 100\n",
    "\n",
    "mean_absolute_percentage_error(y_test,y_pred2)"
   ]
  },
  {
   "cell_type": "code",
   "execution_count": null,
   "metadata": {},
   "outputs": [],
   "source": []
  }
 ],
 "metadata": {
  "colab": {
   "name": "Untitled8.ipynb",
   "provenance": [],
   "version": "0.3.2"
  },
  "kernelspec": {
   "display_name": "Python 3",
   "language": "python",
   "name": "python3"
  },
  "language_info": {
   "codemirror_mode": {
    "name": "ipython",
    "version": 3
   },
   "file_extension": ".py",
   "mimetype": "text/x-python",
   "name": "python",
   "nbconvert_exporter": "python",
   "pygments_lexer": "ipython3",
   "version": "3.7.6"
  }
 },
 "nbformat": 4,
 "nbformat_minor": 1
}
